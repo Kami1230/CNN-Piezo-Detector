{
  "cells": [
    {
      "cell_type": "markdown",
      "metadata": {
        "id": "IlrOOkrwaNdy"
      },
      "source": [
        "\n",
        "**Analyze the performance of different piezoelectric materials based on their properties like voltage output, strain coefficients, etc and train a machine learning model to predict the performance based on material composition and structure.**\n"
      ]
    },
    {
      "cell_type": "markdown",
      "metadata": {
        "id": "MFHTgGSedsDy"
      },
      "source": [
        "Ideas for upscaling:\n",
        "*   Make a device or an app that goes with it that can detect the properties and predict the performance.\n",
        "\n"
      ]
    },
    {
      "cell_type": "markdown",
      "metadata": {
        "id": "S7czt1NQR0jt"
      },
      "source": [
        "This data could be used to train a machine learning model to predict the piezoelectric properties of new materials. The model could learn from the patterns in the data and then make educated guesses about materials we haven't studied yet. This could help scientists discover new materials with useful piezoelectric properties for applications like sensors, actuators, and energy harvesting devices."
      ]
    },
    {
      "cell_type": "markdown",
      "metadata": {
        "id": "HYS0nMQedsU1"
      },
      "source": [
        "# Data Import"
      ]
    },
    {
      "cell_type": "code",
      "execution_count": 119,
      "metadata": {
        "colab": {
          "base_uri": "https://localhost:8080/"
        },
        "id": "PwafPBi8lJTx",
        "outputId": "ffebc024-ec8a-4d78-d9e8-5a8e5368dcb4"
      },
      "outputs": [
        {
          "name": "stdout",
          "output_type": "stream",
          "text": [
            "Requirement already satisfied: pymatgen in /Library/Frameworks/Python.framework/Versions/3.12/lib/python3.12/site-packages (2024.5.31)\n",
            "Requirement already satisfied: ase in /Library/Frameworks/Python.framework/Versions/3.12/lib/python3.12/site-packages (3.23.0)\n",
            "Requirement already satisfied: matplotlib>=1.5 in /Library/Frameworks/Python.framework/Versions/3.12/lib/python3.12/site-packages (from pymatgen) (3.9.0)\n",
            "Requirement already satisfied: monty>=2024.2.2 in /Library/Frameworks/Python.framework/Versions/3.12/lib/python3.12/site-packages (from pymatgen) (2024.5.24)\n",
            "Requirement already satisfied: networkx>=2.2 in /Library/Frameworks/Python.framework/Versions/3.12/lib/python3.12/site-packages (from pymatgen) (3.3)\n",
            "Requirement already satisfied: numpy>=1.25.0 in /Library/Frameworks/Python.framework/Versions/3.12/lib/python3.12/site-packages (from pymatgen) (1.26.4)\n",
            "Requirement already satisfied: palettable>=3.1.1 in /Library/Frameworks/Python.framework/Versions/3.12/lib/python3.12/site-packages (from pymatgen) (3.3.3)\n",
            "Requirement already satisfied: pandas in /Library/Frameworks/Python.framework/Versions/3.12/lib/python3.12/site-packages (from pymatgen) (2.2.2)\n",
            "Requirement already satisfied: plotly>=4.5.0 in /Library/Frameworks/Python.framework/Versions/3.12/lib/python3.12/site-packages (from pymatgen) (5.22.0)\n",
            "Requirement already satisfied: pybtex in /Library/Frameworks/Python.framework/Versions/3.12/lib/python3.12/site-packages (from pymatgen) (0.24.0)\n",
            "Requirement already satisfied: requests in /Library/Frameworks/Python.framework/Versions/3.12/lib/python3.12/site-packages (from pymatgen) (2.32.3)\n",
            "Requirement already satisfied: ruamel.yaml>=0.17.0 in /Library/Frameworks/Python.framework/Versions/3.12/lib/python3.12/site-packages (from pymatgen) (0.18.6)\n",
            "Requirement already satisfied: scipy>=1.5.0 in /Library/Frameworks/Python.framework/Versions/3.12/lib/python3.12/site-packages (from pymatgen) (1.13.1)\n",
            "Requirement already satisfied: spglib>=2.0.2 in /Library/Frameworks/Python.framework/Versions/3.12/lib/python3.12/site-packages (from pymatgen) (2.4.0)\n",
            "Requirement already satisfied: sympy in /Library/Frameworks/Python.framework/Versions/3.12/lib/python3.12/site-packages (from pymatgen) (1.12.1)\n",
            "Requirement already satisfied: tabulate in /Library/Frameworks/Python.framework/Versions/3.12/lib/python3.12/site-packages (from pymatgen) (0.9.0)\n",
            "Requirement already satisfied: tqdm in /Library/Frameworks/Python.framework/Versions/3.12/lib/python3.12/site-packages (from pymatgen) (4.66.4)\n",
            "Requirement already satisfied: uncertainties>=3.1.4 in /Library/Frameworks/Python.framework/Versions/3.12/lib/python3.12/site-packages (from pymatgen) (3.2.0)\n",
            "Requirement already satisfied: joblib in /Library/Frameworks/Python.framework/Versions/3.12/lib/python3.12/site-packages (from pymatgen) (1.4.2)\n",
            "Requirement already satisfied: contourpy>=1.0.1 in /Library/Frameworks/Python.framework/Versions/3.12/lib/python3.12/site-packages (from matplotlib>=1.5->pymatgen) (1.2.1)\n",
            "Requirement already satisfied: cycler>=0.10 in /Library/Frameworks/Python.framework/Versions/3.12/lib/python3.12/site-packages (from matplotlib>=1.5->pymatgen) (0.12.1)\n",
            "Requirement already satisfied: fonttools>=4.22.0 in /Library/Frameworks/Python.framework/Versions/3.12/lib/python3.12/site-packages (from matplotlib>=1.5->pymatgen) (4.53.0)\n",
            "Requirement already satisfied: kiwisolver>=1.3.1 in /Library/Frameworks/Python.framework/Versions/3.12/lib/python3.12/site-packages (from matplotlib>=1.5->pymatgen) (1.4.5)\n",
            "Requirement already satisfied: packaging>=20.0 in /Users/kami/Library/Python/3.12/lib/python/site-packages (from matplotlib>=1.5->pymatgen) (24.0)\n",
            "Requirement already satisfied: pillow>=8 in /Library/Frameworks/Python.framework/Versions/3.12/lib/python3.12/site-packages (from matplotlib>=1.5->pymatgen) (10.3.0)\n",
            "Requirement already satisfied: pyparsing>=2.3.1 in /Library/Frameworks/Python.framework/Versions/3.12/lib/python3.12/site-packages (from matplotlib>=1.5->pymatgen) (3.1.2)\n",
            "Requirement already satisfied: python-dateutil>=2.7 in /Users/kami/Library/Python/3.12/lib/python/site-packages (from matplotlib>=1.5->pymatgen) (2.9.0.post0)\n",
            "Requirement already satisfied: tenacity>=6.2.0 in /Library/Frameworks/Python.framework/Versions/3.12/lib/python3.12/site-packages (from plotly>=4.5.0->pymatgen) (8.3.0)\n",
            "Requirement already satisfied: ruamel.yaml.clib>=0.2.7 in /Library/Frameworks/Python.framework/Versions/3.12/lib/python3.12/site-packages (from ruamel.yaml>=0.17.0->pymatgen) (0.2.8)\n",
            "Requirement already satisfied: pytz>=2020.1 in /Library/Frameworks/Python.framework/Versions/3.12/lib/python3.12/site-packages (from pandas->pymatgen) (2024.1)\n",
            "Requirement already satisfied: tzdata>=2022.7 in /Library/Frameworks/Python.framework/Versions/3.12/lib/python3.12/site-packages (from pandas->pymatgen) (2024.1)\n",
            "Requirement already satisfied: PyYAML>=3.01 in /Library/Frameworks/Python.framework/Versions/3.12/lib/python3.12/site-packages (from pybtex->pymatgen) (6.0.1)\n",
            "Requirement already satisfied: latexcodec>=1.0.4 in /Library/Frameworks/Python.framework/Versions/3.12/lib/python3.12/site-packages (from pybtex->pymatgen) (3.0.0)\n",
            "Requirement already satisfied: six in /Users/kami/Library/Python/3.12/lib/python/site-packages (from pybtex->pymatgen) (1.16.0)\n",
            "Requirement already satisfied: charset-normalizer<4,>=2 in /Library/Frameworks/Python.framework/Versions/3.12/lib/python3.12/site-packages (from requests->pymatgen) (3.3.2)\n",
            "Requirement already satisfied: idna<4,>=2.5 in /Library/Frameworks/Python.framework/Versions/3.12/lib/python3.12/site-packages (from requests->pymatgen) (3.7)\n",
            "Requirement already satisfied: urllib3<3,>=1.21.1 in /Library/Frameworks/Python.framework/Versions/3.12/lib/python3.12/site-packages (from requests->pymatgen) (2.2.1)\n",
            "Requirement already satisfied: certifi>=2017.4.17 in /Library/Frameworks/Python.framework/Versions/3.12/lib/python3.12/site-packages (from requests->pymatgen) (2024.2.2)\n",
            "Requirement already satisfied: mpmath<1.4.0,>=1.1.0 in /Library/Frameworks/Python.framework/Versions/3.12/lib/python3.12/site-packages (from sympy->pymatgen) (1.3.0)\n",
            "Note: you may need to restart the kernel to use updated packages.\n"
          ]
        }
      ],
      "source": [
        "%pip install pymatgen ase"
      ]
    },
    {
      "cell_type": "code",
      "execution_count": 120,
      "metadata": {},
      "outputs": [
        {
          "name": "stdout",
          "output_type": "stream",
          "text": [
            "Requirement already satisfied: seaborn in /Library/Frameworks/Python.framework/Versions/3.12/lib/python3.12/site-packages (0.13.2)\n",
            "Requirement already satisfied: numpy!=1.24.0,>=1.20 in /Library/Frameworks/Python.framework/Versions/3.12/lib/python3.12/site-packages (from seaborn) (1.26.4)\n",
            "Requirement already satisfied: pandas>=1.2 in /Library/Frameworks/Python.framework/Versions/3.12/lib/python3.12/site-packages (from seaborn) (2.2.2)\n",
            "Requirement already satisfied: matplotlib!=3.6.1,>=3.4 in /Library/Frameworks/Python.framework/Versions/3.12/lib/python3.12/site-packages (from seaborn) (3.9.0)\n",
            "Requirement already satisfied: contourpy>=1.0.1 in /Library/Frameworks/Python.framework/Versions/3.12/lib/python3.12/site-packages (from matplotlib!=3.6.1,>=3.4->seaborn) (1.2.1)\n",
            "Requirement already satisfied: cycler>=0.10 in /Library/Frameworks/Python.framework/Versions/3.12/lib/python3.12/site-packages (from matplotlib!=3.6.1,>=3.4->seaborn) (0.12.1)\n",
            "Requirement already satisfied: fonttools>=4.22.0 in /Library/Frameworks/Python.framework/Versions/3.12/lib/python3.12/site-packages (from matplotlib!=3.6.1,>=3.4->seaborn) (4.53.0)\n",
            "Requirement already satisfied: kiwisolver>=1.3.1 in /Library/Frameworks/Python.framework/Versions/3.12/lib/python3.12/site-packages (from matplotlib!=3.6.1,>=3.4->seaborn) (1.4.5)\n",
            "Requirement already satisfied: packaging>=20.0 in /Users/kami/Library/Python/3.12/lib/python/site-packages (from matplotlib!=3.6.1,>=3.4->seaborn) (24.0)\n",
            "Requirement already satisfied: pillow>=8 in /Library/Frameworks/Python.framework/Versions/3.12/lib/python3.12/site-packages (from matplotlib!=3.6.1,>=3.4->seaborn) (10.3.0)\n",
            "Requirement already satisfied: pyparsing>=2.3.1 in /Library/Frameworks/Python.framework/Versions/3.12/lib/python3.12/site-packages (from matplotlib!=3.6.1,>=3.4->seaborn) (3.1.2)\n",
            "Requirement already satisfied: python-dateutil>=2.7 in /Users/kami/Library/Python/3.12/lib/python/site-packages (from matplotlib!=3.6.1,>=3.4->seaborn) (2.9.0.post0)\n",
            "Requirement already satisfied: pytz>=2020.1 in /Library/Frameworks/Python.framework/Versions/3.12/lib/python3.12/site-packages (from pandas>=1.2->seaborn) (2024.1)\n",
            "Requirement already satisfied: tzdata>=2022.7 in /Library/Frameworks/Python.framework/Versions/3.12/lib/python3.12/site-packages (from pandas>=1.2->seaborn) (2024.1)\n",
            "Requirement already satisfied: six>=1.5 in /Users/kami/Library/Python/3.12/lib/python/site-packages (from python-dateutil>=2.7->matplotlib!=3.6.1,>=3.4->seaborn) (1.16.0)\n",
            "Note: you may need to restart the kernel to use updated packages.\n"
          ]
        }
      ],
      "source": [
        "%pip install seaborn"
      ]
    },
    {
      "cell_type": "code",
      "execution_count": 121,
      "metadata": {
        "id": "CltRofU6Gf_5"
      },
      "outputs": [],
      "source": [
        "import numpy as np # linear algebra\n",
        "import pandas as pd # data processing, CSV file I/O (e.g. pd.read_csv)\n",
        "import matplotlib.pyplot as plt # for data visualization purposes\n",
        "import seaborn as sns # for data visualization\n",
        "from ase.visualize import view\n",
        "%matplotlib inline\n",
        "\n",
        "import os\n",
        "for dirname, _, filenames in os.walk('/input'):\n",
        "    for filename in filenames:\n",
        "        print(os.path.join(dirname, filename))"
      ]
    },
    {
      "cell_type": "code",
      "execution_count": 122,
      "metadata": {
        "id": "fLNkTcKuGuDe"
      },
      "outputs": [],
      "source": [
        "import warnings\n",
        "\n",
        "warnings.filterwarnings('ignore')"
      ]
    },
    {
      "cell_type": "code",
      "execution_count": 123,
      "metadata": {
        "id": "kZB9qxsZRIP6"
      },
      "outputs": [],
      "source": [
        "data = 'piezo.csv'\n",
        "\n",
        "df = pd.read_csv(data)"
      ]
    },
    {
      "cell_type": "code",
      "execution_count": 124,
      "metadata": {
        "colab": {
          "base_uri": "https://localhost:8080/"
        },
        "id": "fYfWlmYJSeRc",
        "outputId": "cd550af0-71ba-4e6b-bc98-29ba784b0feb"
      },
      "outputs": [
        {
          "data": {
            "text/plain": [
              "(941, 31)"
            ]
          },
          "execution_count": 124,
          "metadata": {},
          "output_type": "execute_result"
        }
      ],
      "source": [
        "df.shape"
      ]
    },
    {
      "cell_type": "markdown",
      "metadata": {
        "id": "2Br7HczHbuml"
      },
      "source": [
        "* nsites could be renamed to num_sites for clarity.\n",
        "* space_group and point_group are fine as-is.\n",
        "* material_id is a good name.\n",
        "* kpoint_density could be renamed to k_point_density or k_points_per_reciprocal_atom for better readability.\n",
        "* poscar could be renamed to vasp_poscar to explicitly indicate it's the POSCAR file format used by VASP.\n",
        "* structure could be renamed to cif_structure to clarify that it's the CIF representation of the crystal structure."
      ]
    },
    {
      "cell_type": "code",
      "execution_count": 125,
      "metadata": {
        "colab": {
          "base_uri": "https://localhost:8080/"
        },
        "id": "LaavpJHQMpx1",
        "outputId": "6a4d2bc0-a1b8-4d88-acac-05bc670e056f"
      },
      "outputs": [
        {
          "data": {
            "text/html": [
              "<div>\n",
              "<style scoped>\n",
              "    .dataframe tbody tr th:only-of-type {\n",
              "        vertical-align: middle;\n",
              "    }\n",
              "\n",
              "    .dataframe tbody tr th {\n",
              "        vertical-align: top;\n",
              "    }\n",
              "\n",
              "    .dataframe thead th {\n",
              "        text-align: right;\n",
              "    }\n",
              "</style>\n",
              "<table border=\"1\" class=\"dataframe\">\n",
              "  <thead>\n",
              "    <tr style=\"text-align: right;\">\n",
              "      <th></th>\n",
              "      <th>v_max/0</th>\n",
              "      <th>v_max/1</th>\n",
              "      <th>v_max/2</th>\n",
              "      <th>piezoelectric_tensor/0/0</th>\n",
              "      <th>piezoelectric_tensor/0/1</th>\n",
              "      <th>piezoelectric_tensor/0/2</th>\n",
              "      <th>piezoelectric_tensor/0/3</th>\n",
              "      <th>piezoelectric_tensor/0/4</th>\n",
              "      <th>piezoelectric_tensor/0/5</th>\n",
              "      <th>piezoelectric_tensor/1/0</th>\n",
              "      <th>...</th>\n",
              "      <th>meta/nsites</th>\n",
              "      <th>meta/space_group</th>\n",
              "      <th>meta/material_id</th>\n",
              "      <th>meta/point_group</th>\n",
              "      <th>meta/volume</th>\n",
              "      <th>meta/kpoint_density</th>\n",
              "      <th>meta/formula</th>\n",
              "      <th>meta/poscar</th>\n",
              "      <th>meta/structure</th>\n",
              "      <th>eij_max</th>\n",
              "    </tr>\n",
              "  </thead>\n",
              "  <tbody>\n",
              "    <tr>\n",
              "      <th>0</th>\n",
              "      <td>1.0</td>\n",
              "      <td>1.0</td>\n",
              "      <td>1.0</td>\n",
              "      <td>0.0</td>\n",
              "      <td>0.0</td>\n",
              "      <td>0.0</td>\n",
              "      <td>-0.158420</td>\n",
              "      <td>0.0</td>\n",
              "      <td>0.0</td>\n",
              "      <td>0.0</td>\n",
              "      <td>...</td>\n",
              "      <td>2</td>\n",
              "      <td>216</td>\n",
              "      <td>mp-22925</td>\n",
              "      <td>-43m</td>\n",
              "      <td>73.219583</td>\n",
              "      <td>2000</td>\n",
              "      <td>AgI</td>\n",
              "      <td>Ag1 I1\\r\\n1.0\\r\\n4.066724 0.000000 2.347924\\r\\...</td>\n",
              "      <td>#generated using pymatgen\\r\\ndata_AgI\\r\\n_symm...</td>\n",
              "      <td>0.091464</td>\n",
              "    </tr>\n",
              "    <tr>\n",
              "      <th>1</th>\n",
              "      <td>1.0</td>\n",
              "      <td>1.0</td>\n",
              "      <td>1.0</td>\n",
              "      <td>0.0</td>\n",
              "      <td>0.0</td>\n",
              "      <td>0.0</td>\n",
              "      <td>0.008397</td>\n",
              "      <td>0.0</td>\n",
              "      <td>0.0</td>\n",
              "      <td>0.0</td>\n",
              "      <td>...</td>\n",
              "      <td>2</td>\n",
              "      <td>216</td>\n",
              "      <td>mp-406</td>\n",
              "      <td>-43m</td>\n",
              "      <td>72.827208</td>\n",
              "      <td>2000</td>\n",
              "      <td>CdTe</td>\n",
              "      <td>Cd1 Te1\\r\\n1.0\\r\\n4.059447 0.000000 2.343723\\r...</td>\n",
              "      <td>#generated using pymatgen\\r\\ndata_CdTe\\r\\n_sym...</td>\n",
              "      <td>0.004848</td>\n",
              "    </tr>\n",
              "    <tr>\n",
              "      <th>2</th>\n",
              "      <td>1.0</td>\n",
              "      <td>1.0</td>\n",
              "      <td>1.0</td>\n",
              "      <td>0.0</td>\n",
              "      <td>0.0</td>\n",
              "      <td>0.0</td>\n",
              "      <td>0.896760</td>\n",
              "      <td>0.0</td>\n",
              "      <td>0.0</td>\n",
              "      <td>0.0</td>\n",
              "      <td>...</td>\n",
              "      <td>2</td>\n",
              "      <td>216</td>\n",
              "      <td>mp-1639</td>\n",
              "      <td>-43m</td>\n",
              "      <td>11.917209</td>\n",
              "      <td>2000</td>\n",
              "      <td>BN</td>\n",
              "      <td>B1 N1\\r\\n1.0\\r\\n2.220379 0.000000 1.281937\\r\\n...</td>\n",
              "      <td>#generated using pymatgen\\r\\ndata_BN\\r\\n_symme...</td>\n",
              "      <td>0.517745</td>\n",
              "    </tr>\n",
              "    <tr>\n",
              "      <th>3</th>\n",
              "      <td>1.0</td>\n",
              "      <td>1.0</td>\n",
              "      <td>1.0</td>\n",
              "      <td>0.0</td>\n",
              "      <td>0.0</td>\n",
              "      <td>0.0</td>\n",
              "      <td>0.053160</td>\n",
              "      <td>0.0</td>\n",
              "      <td>0.0</td>\n",
              "      <td>0.0</td>\n",
              "      <td>...</td>\n",
              "      <td>2</td>\n",
              "      <td>216</td>\n",
              "      <td>mp-10695</td>\n",
              "      <td>-43m</td>\n",
              "      <td>40.475675</td>\n",
              "      <td>2000</td>\n",
              "      <td>ZnS</td>\n",
              "      <td>Zn1 S1\\r\\n1.0\\r\\n3.337595 0.000000 1.926961\\r\\...</td>\n",
              "      <td>#generated using pymatgen\\r\\ndata_ZnS\\r\\n_symm...</td>\n",
              "      <td>0.030692</td>\n",
              "    </tr>\n",
              "    <tr>\n",
              "      <th>4</th>\n",
              "      <td>1.0</td>\n",
              "      <td>1.0</td>\n",
              "      <td>1.0</td>\n",
              "      <td>0.0</td>\n",
              "      <td>0.0</td>\n",
              "      <td>0.0</td>\n",
              "      <td>0.119310</td>\n",
              "      <td>0.0</td>\n",
              "      <td>0.0</td>\n",
              "      <td>0.0</td>\n",
              "      <td>...</td>\n",
              "      <td>2</td>\n",
              "      <td>216</td>\n",
              "      <td>mp-2176</td>\n",
              "      <td>-43m</td>\n",
              "      <td>59.145615</td>\n",
              "      <td>2000</td>\n",
              "      <td>ZnTe</td>\n",
              "      <td>Zn1 Te1\\r\\n1.0\\r\\n3.787417 0.000000 2.186666\\r...</td>\n",
              "      <td>#generated using pymatgen\\r\\ndata_ZnTe\\r\\n_sym...</td>\n",
              "      <td>0.068884</td>\n",
              "    </tr>\n",
              "  </tbody>\n",
              "</table>\n",
              "<p>5 rows × 31 columns</p>\n",
              "</div>"
            ],
            "text/plain": [
              "   v_max/0  v_max/1  v_max/2  piezoelectric_tensor/0/0  \\\n",
              "0      1.0      1.0      1.0                       0.0   \n",
              "1      1.0      1.0      1.0                       0.0   \n",
              "2      1.0      1.0      1.0                       0.0   \n",
              "3      1.0      1.0      1.0                       0.0   \n",
              "4      1.0      1.0      1.0                       0.0   \n",
              "\n",
              "   piezoelectric_tensor/0/1  piezoelectric_tensor/0/2  \\\n",
              "0                       0.0                       0.0   \n",
              "1                       0.0                       0.0   \n",
              "2                       0.0                       0.0   \n",
              "3                       0.0                       0.0   \n",
              "4                       0.0                       0.0   \n",
              "\n",
              "   piezoelectric_tensor/0/3  piezoelectric_tensor/0/4  \\\n",
              "0                 -0.158420                       0.0   \n",
              "1                  0.008397                       0.0   \n",
              "2                  0.896760                       0.0   \n",
              "3                  0.053160                       0.0   \n",
              "4                  0.119310                       0.0   \n",
              "\n",
              "   piezoelectric_tensor/0/5  piezoelectric_tensor/1/0  ...  meta/nsites  \\\n",
              "0                       0.0                       0.0  ...            2   \n",
              "1                       0.0                       0.0  ...            2   \n",
              "2                       0.0                       0.0  ...            2   \n",
              "3                       0.0                       0.0  ...            2   \n",
              "4                       0.0                       0.0  ...            2   \n",
              "\n",
              "   meta/space_group  meta/material_id  meta/point_group  meta/volume  \\\n",
              "0               216          mp-22925              -43m    73.219583   \n",
              "1               216            mp-406              -43m    72.827208   \n",
              "2               216           mp-1639              -43m    11.917209   \n",
              "3               216          mp-10695              -43m    40.475675   \n",
              "4               216           mp-2176              -43m    59.145615   \n",
              "\n",
              "   meta/kpoint_density  meta/formula  \\\n",
              "0                 2000           AgI   \n",
              "1                 2000          CdTe   \n",
              "2                 2000            BN   \n",
              "3                 2000           ZnS   \n",
              "4                 2000          ZnTe   \n",
              "\n",
              "                                         meta/poscar  \\\n",
              "0  Ag1 I1\\r\\n1.0\\r\\n4.066724 0.000000 2.347924\\r\\...   \n",
              "1  Cd1 Te1\\r\\n1.0\\r\\n4.059447 0.000000 2.343723\\r...   \n",
              "2  B1 N1\\r\\n1.0\\r\\n2.220379 0.000000 1.281937\\r\\n...   \n",
              "3  Zn1 S1\\r\\n1.0\\r\\n3.337595 0.000000 1.926961\\r\\...   \n",
              "4  Zn1 Te1\\r\\n1.0\\r\\n3.787417 0.000000 2.186666\\r...   \n",
              "\n",
              "                                      meta/structure   eij_max  \n",
              "0  #generated using pymatgen\\r\\ndata_AgI\\r\\n_symm...  0.091464  \n",
              "1  #generated using pymatgen\\r\\ndata_CdTe\\r\\n_sym...  0.004848  \n",
              "2  #generated using pymatgen\\r\\ndata_BN\\r\\n_symme...  0.517745  \n",
              "3  #generated using pymatgen\\r\\ndata_ZnS\\r\\n_symm...  0.030692  \n",
              "4  #generated using pymatgen\\r\\ndata_ZnTe\\r\\n_sym...  0.068884  \n",
              "\n",
              "[5 rows x 31 columns]"
            ]
          },
          "execution_count": 125,
          "metadata": {},
          "output_type": "execute_result"
        }
      ],
      "source": [
        "df.head()"
      ]
    },
    {
      "cell_type": "markdown",
      "metadata": {},
      "source": [
        "# Feature Engineering"
      ]
    },
    {
      "cell_type": "markdown",
      "metadata": {
        "id": "a9AHz-mlU67x"
      },
      "source": [
        "### Piezotensors\n",
        "0, 1, 2\n",
        "* 0 - x axis\n",
        "* 1 - y axis\n",
        "* 2 - z axis\n",
        "\n",
        "0, 1, 2, 3, 4, 5\n",
        "* 0 - Normal strain/stress along x\n",
        "* 1 - Normal strain/stress along y\n",
        "* 2 - Normal strain/stress along z\n",
        "* 3 - Shear strain/stress in yz plane\n",
        "* 5 - Shear strain/stress in xy plane\n",
        "\n",
        "\n"
      ]
    },
    {
      "cell_type": "code",
      "execution_count": 126,
      "metadata": {
        "colab": {
          "base_uri": "https://localhost:8080/"
        },
        "id": "I1n6Id79cR8C",
        "outputId": "9d2079b0-8253-4f39-8982-8f81988439d0"
      },
      "outputs": [
        {
          "data": {
            "text/plain": [
              "Index(['X_Vmax', 'Y_Vmax', 'Z_Vmax', 'Piezoelectric Tensor 0.0',\n",
              "       'Piezoelectric Tensor 0.1', 'Piezoelectric Tensor 0.2',\n",
              "       'Piezoelectric Tensor 0.3', 'Piezoelectric Tensor 0.4',\n",
              "       'Piezoelectric_tensor 0.5', 'Piezoelectric Tensor 1.0',\n",
              "       'Piezoelectric Tensor 1.1', 'Piezoelectric Tensor 1.2',\n",
              "       'Piezoelectric Tensor 1.3', 'Piezoelectric Tensor 1.4',\n",
              "       'Piezoelectric Tensor 1.5', 'Piezoelectric Tensor 2.0',\n",
              "       'Piezoelectric Tensor 2.1', 'Piezoelectric Tensor 2.2',\n",
              "       'Piezoelectric Tensor 2.3', 'Piezoelectric Tensor 2.4',\n",
              "       'Piezoelectric Tensor 2.5', 'Num Atoms', 'Space Goup', 'Material ID',\n",
              "       'Point Group', 'Volume', 'Kpoint density', 'Formula', 'Poscar',\n",
              "       'Structure', 'eij_max'],\n",
              "      dtype='object')"
            ]
          },
          "execution_count": 126,
          "metadata": {},
          "output_type": "execute_result"
        }
      ],
      "source": [
        "col_names = ['X_Vmax', 'Y_Vmax', 'Z_Vmax',\n",
        "             'Piezoelectric Tensor 0.0', 'Piezoelectric Tensor 0.1',\t'Piezoelectric Tensor 0.2', 'Piezoelectric Tensor 0.3',\t'Piezoelectric Tensor 0.4', 'Piezoelectric_tensor 0.5',\n",
        "             'Piezoelectric Tensor 1.0', 'Piezoelectric Tensor 1.1', 'Piezoelectric Tensor 1.2', 'Piezoelectric Tensor 1.3', 'Piezoelectric Tensor 1.4', 'Piezoelectric Tensor 1.5',\n",
        "             'Piezoelectric Tensor 2.0', 'Piezoelectric Tensor 2.1', 'Piezoelectric Tensor 2.2', 'Piezoelectric Tensor 2.3', 'Piezoelectric Tensor 2.4', 'Piezoelectric Tensor 2.5',\n",
        "             'Num Atoms',\t'Space Goup',\t'Material ID',\t'Point Group',\t'Volume',\t'Kpoint density',\t'Formula', \t'Poscar',\t'Structure',\t'eij_max']\n",
        "\n",
        "df.columns = col_names\n",
        "\n",
        "df.columns"
      ]
    },
    {
      "cell_type": "code",
      "execution_count": 127,
      "metadata": {},
      "outputs": [
        {
          "data": {
            "text/plain": [
              "0              AgI\n",
              "1             CdTe\n",
              "2               BN\n",
              "3              ZnS\n",
              "4             ZnTe\n",
              "          ...     \n",
              "936         K4MoO8\n",
              "937     Li5(CoO3)2\n",
              "938    LiMn2(PO4)2\n",
              "939    LiFe2(PO4)2\n",
              "940     Li3MnSi2O7\n",
              "Name: Formula, Length: 941, dtype: object"
            ]
          },
          "execution_count": 127,
          "metadata": {},
          "output_type": "execute_result"
        }
      ],
      "source": [
        "row_names = df['Formula']\n",
        "\n",
        "df.row = row_names\n",
        "df.row"
      ]
    },
    {
      "cell_type": "code",
      "execution_count": 128,
      "metadata": {
        "colab": {
          "base_uri": "https://localhost:8080/"
        },
        "id": "yTlJwSQ6Sugs",
        "outputId": "9b94c1f0-9d9c-4b16-95b9-1d7265d4ca8d"
      },
      "outputs": [
        {
          "data": {
            "text/html": [
              "<div>\n",
              "<style scoped>\n",
              "    .dataframe tbody tr th:only-of-type {\n",
              "        vertical-align: middle;\n",
              "    }\n",
              "\n",
              "    .dataframe tbody tr th {\n",
              "        vertical-align: top;\n",
              "    }\n",
              "\n",
              "    .dataframe thead th {\n",
              "        text-align: right;\n",
              "    }\n",
              "</style>\n",
              "<table border=\"1\" class=\"dataframe\">\n",
              "  <thead>\n",
              "    <tr style=\"text-align: right;\">\n",
              "      <th></th>\n",
              "      <th>X_Vmax</th>\n",
              "      <th>Y_Vmax</th>\n",
              "      <th>Z_Vmax</th>\n",
              "      <th>Piezoelectric Tensor 0.0</th>\n",
              "      <th>Piezoelectric Tensor 0.1</th>\n",
              "      <th>Piezoelectric Tensor 0.2</th>\n",
              "      <th>Piezoelectric Tensor 0.3</th>\n",
              "      <th>Piezoelectric Tensor 0.4</th>\n",
              "      <th>Piezoelectric_tensor 0.5</th>\n",
              "      <th>Piezoelectric Tensor 1.0</th>\n",
              "      <th>...</th>\n",
              "      <th>Num Atoms</th>\n",
              "      <th>Space Goup</th>\n",
              "      <th>Material ID</th>\n",
              "      <th>Point Group</th>\n",
              "      <th>Volume</th>\n",
              "      <th>Kpoint density</th>\n",
              "      <th>Formula</th>\n",
              "      <th>Poscar</th>\n",
              "      <th>Structure</th>\n",
              "      <th>eij_max</th>\n",
              "    </tr>\n",
              "  </thead>\n",
              "  <tbody>\n",
              "    <tr>\n",
              "      <th>0</th>\n",
              "      <td>1.0</td>\n",
              "      <td>1.0</td>\n",
              "      <td>1.0</td>\n",
              "      <td>0.0</td>\n",
              "      <td>0.0</td>\n",
              "      <td>0.0</td>\n",
              "      <td>-0.158420</td>\n",
              "      <td>0.0</td>\n",
              "      <td>0.0</td>\n",
              "      <td>0.0</td>\n",
              "      <td>...</td>\n",
              "      <td>2</td>\n",
              "      <td>216</td>\n",
              "      <td>mp-22925</td>\n",
              "      <td>-43m</td>\n",
              "      <td>73.219583</td>\n",
              "      <td>2000</td>\n",
              "      <td>AgI</td>\n",
              "      <td>Ag1 I1\\r\\n1.0\\r\\n4.066724 0.000000 2.347924\\r\\...</td>\n",
              "      <td>#generated using pymatgen\\r\\ndata_AgI\\r\\n_symm...</td>\n",
              "      <td>0.091464</td>\n",
              "    </tr>\n",
              "    <tr>\n",
              "      <th>1</th>\n",
              "      <td>1.0</td>\n",
              "      <td>1.0</td>\n",
              "      <td>1.0</td>\n",
              "      <td>0.0</td>\n",
              "      <td>0.0</td>\n",
              "      <td>0.0</td>\n",
              "      <td>0.008397</td>\n",
              "      <td>0.0</td>\n",
              "      <td>0.0</td>\n",
              "      <td>0.0</td>\n",
              "      <td>...</td>\n",
              "      <td>2</td>\n",
              "      <td>216</td>\n",
              "      <td>mp-406</td>\n",
              "      <td>-43m</td>\n",
              "      <td>72.827208</td>\n",
              "      <td>2000</td>\n",
              "      <td>CdTe</td>\n",
              "      <td>Cd1 Te1\\r\\n1.0\\r\\n4.059447 0.000000 2.343723\\r...</td>\n",
              "      <td>#generated using pymatgen\\r\\ndata_CdTe\\r\\n_sym...</td>\n",
              "      <td>0.004848</td>\n",
              "    </tr>\n",
              "    <tr>\n",
              "      <th>2</th>\n",
              "      <td>1.0</td>\n",
              "      <td>1.0</td>\n",
              "      <td>1.0</td>\n",
              "      <td>0.0</td>\n",
              "      <td>0.0</td>\n",
              "      <td>0.0</td>\n",
              "      <td>0.896760</td>\n",
              "      <td>0.0</td>\n",
              "      <td>0.0</td>\n",
              "      <td>0.0</td>\n",
              "      <td>...</td>\n",
              "      <td>2</td>\n",
              "      <td>216</td>\n",
              "      <td>mp-1639</td>\n",
              "      <td>-43m</td>\n",
              "      <td>11.917209</td>\n",
              "      <td>2000</td>\n",
              "      <td>BN</td>\n",
              "      <td>B1 N1\\r\\n1.0\\r\\n2.220379 0.000000 1.281937\\r\\n...</td>\n",
              "      <td>#generated using pymatgen\\r\\ndata_BN\\r\\n_symme...</td>\n",
              "      <td>0.517745</td>\n",
              "    </tr>\n",
              "    <tr>\n",
              "      <th>3</th>\n",
              "      <td>1.0</td>\n",
              "      <td>1.0</td>\n",
              "      <td>1.0</td>\n",
              "      <td>0.0</td>\n",
              "      <td>0.0</td>\n",
              "      <td>0.0</td>\n",
              "      <td>0.053160</td>\n",
              "      <td>0.0</td>\n",
              "      <td>0.0</td>\n",
              "      <td>0.0</td>\n",
              "      <td>...</td>\n",
              "      <td>2</td>\n",
              "      <td>216</td>\n",
              "      <td>mp-10695</td>\n",
              "      <td>-43m</td>\n",
              "      <td>40.475675</td>\n",
              "      <td>2000</td>\n",
              "      <td>ZnS</td>\n",
              "      <td>Zn1 S1\\r\\n1.0\\r\\n3.337595 0.000000 1.926961\\r\\...</td>\n",
              "      <td>#generated using pymatgen\\r\\ndata_ZnS\\r\\n_symm...</td>\n",
              "      <td>0.030692</td>\n",
              "    </tr>\n",
              "    <tr>\n",
              "      <th>4</th>\n",
              "      <td>1.0</td>\n",
              "      <td>1.0</td>\n",
              "      <td>1.0</td>\n",
              "      <td>0.0</td>\n",
              "      <td>0.0</td>\n",
              "      <td>0.0</td>\n",
              "      <td>0.119310</td>\n",
              "      <td>0.0</td>\n",
              "      <td>0.0</td>\n",
              "      <td>0.0</td>\n",
              "      <td>...</td>\n",
              "      <td>2</td>\n",
              "      <td>216</td>\n",
              "      <td>mp-2176</td>\n",
              "      <td>-43m</td>\n",
              "      <td>59.145615</td>\n",
              "      <td>2000</td>\n",
              "      <td>ZnTe</td>\n",
              "      <td>Zn1 Te1\\r\\n1.0\\r\\n3.787417 0.000000 2.186666\\r...</td>\n",
              "      <td>#generated using pymatgen\\r\\ndata_ZnTe\\r\\n_sym...</td>\n",
              "      <td>0.068884</td>\n",
              "    </tr>\n",
              "  </tbody>\n",
              "</table>\n",
              "<p>5 rows × 31 columns</p>\n",
              "</div>"
            ],
            "text/plain": [
              "   X_Vmax  Y_Vmax  Z_Vmax  Piezoelectric Tensor 0.0  Piezoelectric Tensor 0.1  \\\n",
              "0     1.0     1.0     1.0                       0.0                       0.0   \n",
              "1     1.0     1.0     1.0                       0.0                       0.0   \n",
              "2     1.0     1.0     1.0                       0.0                       0.0   \n",
              "3     1.0     1.0     1.0                       0.0                       0.0   \n",
              "4     1.0     1.0     1.0                       0.0                       0.0   \n",
              "\n",
              "   Piezoelectric Tensor 0.2  Piezoelectric Tensor 0.3  \\\n",
              "0                       0.0                 -0.158420   \n",
              "1                       0.0                  0.008397   \n",
              "2                       0.0                  0.896760   \n",
              "3                       0.0                  0.053160   \n",
              "4                       0.0                  0.119310   \n",
              "\n",
              "   Piezoelectric Tensor 0.4  Piezoelectric_tensor 0.5  \\\n",
              "0                       0.0                       0.0   \n",
              "1                       0.0                       0.0   \n",
              "2                       0.0                       0.0   \n",
              "3                       0.0                       0.0   \n",
              "4                       0.0                       0.0   \n",
              "\n",
              "   Piezoelectric Tensor 1.0  ...  Num Atoms  Space Goup  Material ID  \\\n",
              "0                       0.0  ...          2         216     mp-22925   \n",
              "1                       0.0  ...          2         216       mp-406   \n",
              "2                       0.0  ...          2         216      mp-1639   \n",
              "3                       0.0  ...          2         216     mp-10695   \n",
              "4                       0.0  ...          2         216      mp-2176   \n",
              "\n",
              "   Point Group     Volume  Kpoint density  Formula  \\\n",
              "0         -43m  73.219583            2000      AgI   \n",
              "1         -43m  72.827208            2000     CdTe   \n",
              "2         -43m  11.917209            2000       BN   \n",
              "3         -43m  40.475675            2000      ZnS   \n",
              "4         -43m  59.145615            2000     ZnTe   \n",
              "\n",
              "                                              Poscar  \\\n",
              "0  Ag1 I1\\r\\n1.0\\r\\n4.066724 0.000000 2.347924\\r\\...   \n",
              "1  Cd1 Te1\\r\\n1.0\\r\\n4.059447 0.000000 2.343723\\r...   \n",
              "2  B1 N1\\r\\n1.0\\r\\n2.220379 0.000000 1.281937\\r\\n...   \n",
              "3  Zn1 S1\\r\\n1.0\\r\\n3.337595 0.000000 1.926961\\r\\...   \n",
              "4  Zn1 Te1\\r\\n1.0\\r\\n3.787417 0.000000 2.186666\\r...   \n",
              "\n",
              "                                           Structure   eij_max  \n",
              "0  #generated using pymatgen\\r\\ndata_AgI\\r\\n_symm...  0.091464  \n",
              "1  #generated using pymatgen\\r\\ndata_CdTe\\r\\n_sym...  0.004848  \n",
              "2  #generated using pymatgen\\r\\ndata_BN\\r\\n_symme...  0.517745  \n",
              "3  #generated using pymatgen\\r\\ndata_ZnS\\r\\n_symm...  0.030692  \n",
              "4  #generated using pymatgen\\r\\ndata_ZnTe\\r\\n_sym...  0.068884  \n",
              "\n",
              "[5 rows x 31 columns]"
            ]
          },
          "execution_count": 128,
          "metadata": {},
          "output_type": "execute_result"
        }
      ],
      "source": [
        "df.head()"
      ]
    },
    {
      "cell_type": "code",
      "execution_count": 129,
      "metadata": {
        "colab": {
          "base_uri": "https://localhost:8080/"
        },
        "id": "FogSllA7UNXj",
        "outputId": "8c668ecd-33c6-4e55-9ae0-a75646f05df5"
      },
      "outputs": [
        {
          "name": "stdout",
          "output_type": "stream",
          "text": [
            "<class 'pandas.core.frame.DataFrame'>\n",
            "RangeIndex: 941 entries, 0 to 940\n",
            "Data columns (total 31 columns):\n",
            " #   Column                    Non-Null Count  Dtype  \n",
            "---  ------                    --------------  -----  \n",
            " 0   X_Vmax                    941 non-null    float64\n",
            " 1   Y_Vmax                    941 non-null    float64\n",
            " 2   Z_Vmax                    941 non-null    float64\n",
            " 3   Piezoelectric Tensor 0.0  941 non-null    float64\n",
            " 4   Piezoelectric Tensor 0.1  941 non-null    float64\n",
            " 5   Piezoelectric Tensor 0.2  941 non-null    float64\n",
            " 6   Piezoelectric Tensor 0.3  941 non-null    float64\n",
            " 7   Piezoelectric Tensor 0.4  941 non-null    float64\n",
            " 8   Piezoelectric_tensor 0.5  941 non-null    float64\n",
            " 9   Piezoelectric Tensor 1.0  941 non-null    float64\n",
            " 10  Piezoelectric Tensor 1.1  941 non-null    float64\n",
            " 11  Piezoelectric Tensor 1.2  941 non-null    float64\n",
            " 12  Piezoelectric Tensor 1.3  941 non-null    float64\n",
            " 13  Piezoelectric Tensor 1.4  941 non-null    float64\n",
            " 14  Piezoelectric Tensor 1.5  941 non-null    float64\n",
            " 15  Piezoelectric Tensor 2.0  941 non-null    float64\n",
            " 16  Piezoelectric Tensor 2.1  941 non-null    float64\n",
            " 17  Piezoelectric Tensor 2.2  941 non-null    float64\n",
            " 18  Piezoelectric Tensor 2.3  941 non-null    float64\n",
            " 19  Piezoelectric Tensor 2.4  941 non-null    float64\n",
            " 20  Piezoelectric Tensor 2.5  941 non-null    float64\n",
            " 21  Num Atoms                 941 non-null    int64  \n",
            " 22  Space Goup                941 non-null    int64  \n",
            " 23  Material ID               941 non-null    object \n",
            " 24  Point Group               941 non-null    object \n",
            " 25  Volume                    941 non-null    float64\n",
            " 26  Kpoint density            941 non-null    int64  \n",
            " 27  Formula                   941 non-null    object \n",
            " 28  Poscar                    941 non-null    object \n",
            " 29  Structure                 941 non-null    object \n",
            " 30  eij_max                   941 non-null    float64\n",
            "dtypes: float64(23), int64(3), object(5)\n",
            "memory usage: 228.0+ KB\n"
          ]
        }
      ],
      "source": [
        "df.info()"
      ]
    },
    {
      "cell_type": "code",
      "execution_count": 130,
      "metadata": {
        "colab": {
          "base_uri": "https://localhost:8080/"
        },
        "id": "0ZPBFBq9gq1J",
        "outputId": "8115fa08-86e4-4a50-f84b-3c6f18cb1c10"
      },
      "outputs": [
        {
          "data": {
            "text/plain": [
              "X_Vmax                      0\n",
              "Y_Vmax                      0\n",
              "Z_Vmax                      0\n",
              "Piezoelectric Tensor 0.0    0\n",
              "Piezoelectric Tensor 0.1    0\n",
              "Piezoelectric Tensor 0.2    0\n",
              "Piezoelectric Tensor 0.3    0\n",
              "Piezoelectric Tensor 0.4    0\n",
              "Piezoelectric_tensor 0.5    0\n",
              "Piezoelectric Tensor 1.0    0\n",
              "Piezoelectric Tensor 1.1    0\n",
              "Piezoelectric Tensor 1.2    0\n",
              "Piezoelectric Tensor 1.3    0\n",
              "Piezoelectric Tensor 1.4    0\n",
              "Piezoelectric Tensor 1.5    0\n",
              "Piezoelectric Tensor 2.0    0\n",
              "Piezoelectric Tensor 2.1    0\n",
              "Piezoelectric Tensor 2.2    0\n",
              "Piezoelectric Tensor 2.3    0\n",
              "Piezoelectric Tensor 2.4    0\n",
              "Piezoelectric Tensor 2.5    0\n",
              "Num Atoms                   0\n",
              "Space Goup                  0\n",
              "Material ID                 0\n",
              "Point Group                 0\n",
              "Volume                      0\n",
              "Kpoint density              0\n",
              "Formula                     0\n",
              "Poscar                      0\n",
              "Structure                   0\n",
              "eij_max                     0\n",
              "dtype: int64"
            ]
          },
          "execution_count": 130,
          "metadata": {},
          "output_type": "execute_result"
        }
      ],
      "source": [
        "df.isnull().sum()"
      ]
    },
    {
      "cell_type": "code",
      "execution_count": 131,
      "metadata": {},
      "outputs": [
        {
          "name": "stdout",
          "output_type": "stream",
          "text": [
            "Requirement already satisfied: typing-extensions in /Library/Frameworks/Python.framework/Versions/3.12/lib/python3.12/site-packages (4.12.1)\n",
            "Note: you may need to restart the kernel to use updated packages.\n"
          ]
        }
      ],
      "source": [
        "pip install typing-extensions"
      ]
    },
    {
      "cell_type": "code",
      "execution_count": 132,
      "metadata": {
        "id": "E_dluxt_mRKb"
      },
      "outputs": [],
      "source": [
        "from pymatgen.core import Structure"
      ]
    },
    {
      "cell_type": "code",
      "execution_count": 133,
      "metadata": {
        "id": "2aNZ8xz7leLl"
      },
      "outputs": [],
      "source": [
        "def cif_to_grid(cif_string, grid_size=64):\n",
        "    struct = Structure.from_str(cif_string, fmt='cif', primitive=True)\n",
        "    atoms = struct.sites\n",
        "\n",
        "    # Create a 3D grid\n",
        "    grid = np.zeros((grid_size, grid_size, grid_size), dtype=np.float32)\n",
        "\n",
        "    # Encode atomic information into the grid\n",
        "    for atom in atoms:\n",
        "        x, y, z = atom.frac_coords\n",
        "        x = (x + 1e-6) % 1  # Apply a small offset to avoid boundary issues\n",
        "        y = (y + 1e-6) % 1\n",
        "        z = (z + 1e-6) % 1\n",
        "        grid_x = int(x * (grid_size - 1))\n",
        "        grid_y = int(y * (grid_size - 1))\n",
        "        grid_z = int(z * (grid_size - 1))\n",
        "        grid[grid_x, grid_y, grid_z] = atom.specie.Z  # Atomic number\n",
        "\n",
        "    return grid"
      ]
    },
    {
      "cell_type": "code",
      "execution_count": 134,
      "metadata": {
        "id": "7nPVLnsplnA-"
      },
      "outputs": [],
      "source": [
        "grids = []\n",
        "for cif in df['Structure']:\n",
        "    grid = cif_to_grid(cif)\n",
        "    grids.append(grid)"
      ]
    },
    {
      "cell_type": "code",
      "execution_count": 135,
      "metadata": {
        "id": "7LuzPgu5lvf9"
      },
      "outputs": [],
      "source": [
        "grids = np.array(grids)"
      ]
    },
    {
      "cell_type": "code",
      "execution_count": 136,
      "metadata": {},
      "outputs": [],
      "source": [
        "def augment_3d_grid(grid, rotate=True, flip=True):\n",
        "    if rotate:\n",
        "        # Random rotation along x, y, z axes\n",
        "        rot_angles = np.random.uniform(0, 2 * np.pi, size=3)\n",
        "        grid = np.rot90(grid, k=int(rot_angles[0] / (np.pi / 2)), axes=(1, 2))\n",
        "        grid = np.rot90(grid, k=int(rot_angles[1] / (np.pi / 2)), axes=(0, 2))\n",
        "        grid = np.rot90(grid, k=int(rot_angles[2] / (np.pi / 2)), axes=(0, 1))\n",
        "\n",
        "    if flip:\n",
        "        # Random flips along x, y, z axes\n",
        "        flip_axes = np.random.randint(0, 2, size=3)\n",
        "        grid = np.flip(grid, axis=0) if flip_axes[0] else grid\n",
        "        grid = np.flip(grid, axis=1) if flip_axes[1] else grid\n",
        "        grid = np.flip(grid, axis=2) if flip_axes[2] else grid\n",
        "\n",
        "    return grid"
      ]
    },
    {
      "cell_type": "code",
      "execution_count": 137,
      "metadata": {
        "id": "hMQ1T3uKfbHJ"
      },
      "outputs": [],
      "source": [
        "df = df.drop('Structure', axis = 1)"
      ]
    },
    {
      "cell_type": "code",
      "execution_count": 138,
      "metadata": {
        "id": "ZutZWoTzgcpS"
      },
      "outputs": [],
      "source": [
        "df = df.drop('Poscar', axis = 1)"
      ]
    },
    {
      "cell_type": "code",
      "execution_count": 139,
      "metadata": {},
      "outputs": [],
      "source": [
        "df = df.drop('Formula', axis = 1)"
      ]
    },
    {
      "cell_type": "code",
      "execution_count": 140,
      "metadata": {},
      "outputs": [],
      "source": [
        "df = df.drop('Kpoint density',  axis = 1)"
      ]
    },
    {
      "cell_type": "markdown",
      "metadata": {},
      "source": [
        "### Point group code:\n",
        "1) -43m\n",
        "2) 23\n",
        "3) -42m\n",
        "4) -4\n",
        "5) -6m2\n",
        "6) 4mm\n",
        "7) 6mm\n",
        "8) 3m\n",
        "9) 32\n",
        "10) 3\n",
        "11) mm2\n",
        "12) 222\n",
        "13) m\n",
        "14) 2\n",
        "15) 1"
      ]
    },
    {
      "cell_type": "code",
      "execution_count": 141,
      "metadata": {},
      "outputs": [],
      "source": [
        "df['Material ID'] = df['Material ID'].str.replace('mp-', '')\n",
        "for group in df['Point Group']:\n",
        "    if group == \"-43m\":\n",
        "         df['Point Group'] = 1\n",
        "    if group == \"23\":\n",
        "         df['Point Group'] = 2\n",
        "    if group == \"-42\":\n",
        "         df['Point Group'] = 3\n",
        "    if group == \"-4\":\n",
        "         df['Point Group'] = 4\n",
        "    if group == \"-6m2\":\n",
        "         df['Point Group'] = 5\n",
        "    if group == \"4mm\":\n",
        "         df['Point Group'] = 6\n",
        "    if group == \"6mm\":\n",
        "         df['Point Group'] = 7\n",
        "    if group == \"3m\":\n",
        "         df['Point Group'] = 8\n",
        "    if group == \"32\":\n",
        "         df['Point Group'] = 9\n",
        "    if group == \"23\":\n",
        "         df['Point Group'] = 2\n",
        "    if group == \"3\":\n",
        "         df['Point Group'] = 10\n",
        "    if group == \"mm2\":\n",
        "         df['Point Group'] = 11\n",
        "    if group == \"222\":\n",
        "         df['Point Group'] = 12\n",
        "    if group == \"m\":\n",
        "         df['Point Group'] = 13\n",
        "    if group == \"2\":\n",
        "         df['Point Group'] = 14\n",
        "    if group == \"1\":\n",
        "         df['Point Group'] = 15\n",
        "    "
      ]
    },
    {
      "cell_type": "code",
      "execution_count": 142,
      "metadata": {},
      "outputs": [
        {
          "name": "stdout",
          "output_type": "stream",
          "text": [
            "<class 'pandas.core.frame.DataFrame'>\n",
            "RangeIndex: 941 entries, 0 to 940\n",
            "Data columns (total 27 columns):\n",
            " #   Column                    Non-Null Count  Dtype  \n",
            "---  ------                    --------------  -----  \n",
            " 0   X_Vmax                    941 non-null    float64\n",
            " 1   Y_Vmax                    941 non-null    float64\n",
            " 2   Z_Vmax                    941 non-null    float64\n",
            " 3   Piezoelectric Tensor 0.0  941 non-null    float64\n",
            " 4   Piezoelectric Tensor 0.1  941 non-null    float64\n",
            " 5   Piezoelectric Tensor 0.2  941 non-null    float64\n",
            " 6   Piezoelectric Tensor 0.3  941 non-null    float64\n",
            " 7   Piezoelectric Tensor 0.4  941 non-null    float64\n",
            " 8   Piezoelectric_tensor 0.5  941 non-null    float64\n",
            " 9   Piezoelectric Tensor 1.0  941 non-null    float64\n",
            " 10  Piezoelectric Tensor 1.1  941 non-null    float64\n",
            " 11  Piezoelectric Tensor 1.2  941 non-null    float64\n",
            " 12  Piezoelectric Tensor 1.3  941 non-null    float64\n",
            " 13  Piezoelectric Tensor 1.4  941 non-null    float64\n",
            " 14  Piezoelectric Tensor 1.5  941 non-null    float64\n",
            " 15  Piezoelectric Tensor 2.0  941 non-null    float64\n",
            " 16  Piezoelectric Tensor 2.1  941 non-null    float64\n",
            " 17  Piezoelectric Tensor 2.2  941 non-null    float64\n",
            " 18  Piezoelectric Tensor 2.3  941 non-null    float64\n",
            " 19  Piezoelectric Tensor 2.4  941 non-null    float64\n",
            " 20  Piezoelectric Tensor 2.5  941 non-null    float64\n",
            " 21  Num Atoms                 941 non-null    int64  \n",
            " 22  Space Goup                941 non-null    int64  \n",
            " 23  Material ID               941 non-null    object \n",
            " 24  Point Group               941 non-null    int64  \n",
            " 25  Volume                    941 non-null    float64\n",
            " 26  eij_max                   941 non-null    float64\n",
            "dtypes: float64(23), int64(3), object(1)\n",
            "memory usage: 198.6+ KB\n"
          ]
        }
      ],
      "source": [
        "df.info()"
      ]
    },
    {
      "cell_type": "markdown",
      "metadata": {
        "id": "lJ9u8zDoWmCX"
      },
      "source": [
        "Normalize numerical features\n",
        "\n",
        "numerical_features = ['Piezoelectric Tensor 0.0', 'Piezoelectric Tensor 0.1',\t'Piezoelectric Tensor 0.2', 'Piezoelectric Tensor 0.3',\t'Piezoelectric Tensor 0.4', 'Piezoelectric_tensor 0.5',\n",
        "                      'Piezoelectric Tensor 1.0', 'Piezoelectric Tensor 1.1', 'Piezoelectric Tensor 1.2', 'Piezoelectric Tensor 1.3', 'Piezoelectric Tensor 1.4', 'Piezoelectric Tensor 1.5',\n",
        "                      'Piezoelectric Tensor 2.0', 'Piezoelectric Tensor 2.1', 'Piezoelectric Tensor 2.2', 'Piezoelectric Tensor 2.3', 'Piezoelectric Tensor 2.4', 'Piezoelectric Tensor 2.5',\n",
        "                      'Num Atoms',\t'Space Goup',\t'Volume',\t'Kpoint density',\t'eij_max']\n",
        "for feature in numerical_features:\n",
        "    # Calculate minimum and maximum values\n",
        "    min_value = df[feature].min()\n",
        "    max_value = df[feature].max()\n",
        "    \n",
        "    # Normalize the feature\n",
        "    df[feature] = (df[feature] - min_value) / (max_value - min_value)\n",
        "  ```"
      ]
    },
    {
      "cell_type": "code",
      "execution_count": 143,
      "metadata": {},
      "outputs": [],
      "source": [
        "# grids = np.array(grids).reshape(len(grids), 64, 64, 64, 1)"
      ]
    },
    {
      "cell_type": "code",
      "execution_count": 144,
      "metadata": {
        "id": "4xoeW4ZMhI8l"
      },
      "outputs": [],
      "source": [
        "X = df.drop(['Piezoelectric Tensor 0.0', 'Piezoelectric Tensor 0.1',\t'Piezoelectric Tensor 0.2', 'Piezoelectric Tensor 0.3',\t'Piezoelectric Tensor 0.4', 'Piezoelectric_tensor 0.5',\n",
        "            'Piezoelectric Tensor 1.0', 'Piezoelectric Tensor 1.1', 'Piezoelectric Tensor 1.2', 'Piezoelectric Tensor 1.3', 'Piezoelectric Tensor 1.4', 'Piezoelectric Tensor 1.5',\n",
        "            'Piezoelectric Tensor 2.0', 'Piezoelectric Tensor 2.1', 'Piezoelectric Tensor 2.2', 'Piezoelectric Tensor 2.3', 'Piezoelectric Tensor 2.4', 'Piezoelectric Tensor 2.5', 'eij_max'], axis = 1)\n",
        "y = df[['Piezoelectric Tensor 0.0', 'Piezoelectric Tensor 0.1',\t'Piezoelectric Tensor 0.2', 'Piezoelectric Tensor 0.3',\t'Piezoelectric Tensor 0.4', 'Piezoelectric_tensor 0.5',\n",
        "      'Piezoelectric Tensor 1.0', 'Piezoelectric Tensor 1.1', 'Piezoelectric Tensor 1.2', 'Piezoelectric Tensor 1.3', 'Piezoelectric Tensor 1.4', 'Piezoelectric Tensor 1.5',\n",
        "      'Piezoelectric Tensor 2.0', 'Piezoelectric Tensor 2.1', 'Piezoelectric Tensor 2.2', 'Piezoelectric Tensor 2.3', 'Piezoelectric Tensor 2.4', 'Piezoelectric Tensor 2.5', 'eij_max']]"
      ]
    },
    {
      "cell_type": "code",
      "execution_count": 145,
      "metadata": {},
      "outputs": [],
      "source": [
        "X = np.concatenate([X.values, grids.reshape(len(grids), -1)], axis=1)"
      ]
    },
    {
      "cell_type": "code",
      "execution_count": 146,
      "metadata": {},
      "outputs": [
        {
          "data": {
            "text/plain": [
              "(941, 262152)"
            ]
          },
          "execution_count": 146,
          "metadata": {},
          "output_type": "execute_result"
        }
      ],
      "source": [
        "X.shape"
      ]
    },
    {
      "cell_type": "code",
      "execution_count": 147,
      "metadata": {
        "id": "6MTP07tFV4_v"
      },
      "outputs": [],
      "source": [
        "# X = np.concatenate([np.repeat(X[:, :, np.newaxis], grids.shape[1], axis=2), grids], axis=1)\n",
        "X = X.reshape(X.shape[0], 8, 9, 11, 331)"
      ]
    },
    {
      "cell_type": "code",
      "execution_count": 148,
      "metadata": {},
      "outputs": [
        {
          "data": {
            "text/plain": [
              "(941, 8, 9, 11, 331)"
            ]
          },
          "execution_count": 148,
          "metadata": {},
          "output_type": "execute_result"
        }
      ],
      "source": [
        "X.shape"
      ]
    },
    {
      "cell_type": "code",
      "execution_count": 149,
      "metadata": {},
      "outputs": [],
      "source": [
        "X = X.astype('float32')\n",
        "y = y.astype('float32')"
      ]
    },
    {
      "cell_type": "markdown",
      "metadata": {
        "id": "ugipcuVLh3O7"
      },
      "source": [
        "# Training"
      ]
    },
    {
      "cell_type": "code",
      "execution_count": 150,
      "metadata": {},
      "outputs": [
        {
          "name": "stdout",
          "output_type": "stream",
          "text": [
            "Requirement already satisfied: scikit-learn in /Library/Frameworks/Python.framework/Versions/3.12/lib/python3.12/site-packages (1.5.0)\n",
            "Requirement already satisfied: numpy>=1.19.5 in /Library/Frameworks/Python.framework/Versions/3.12/lib/python3.12/site-packages (from scikit-learn) (1.26.4)\n",
            "Requirement already satisfied: scipy>=1.6.0 in /Library/Frameworks/Python.framework/Versions/3.12/lib/python3.12/site-packages (from scikit-learn) (1.13.1)\n",
            "Requirement already satisfied: joblib>=1.2.0 in /Library/Frameworks/Python.framework/Versions/3.12/lib/python3.12/site-packages (from scikit-learn) (1.4.2)\n",
            "Requirement already satisfied: threadpoolctl>=3.1.0 in /Library/Frameworks/Python.framework/Versions/3.12/lib/python3.12/site-packages (from scikit-learn) (3.5.0)\n",
            "Note: you may need to restart the kernel to use updated packages.\n"
          ]
        }
      ],
      "source": [
        "%pip install scikit-learn"
      ]
    },
    {
      "cell_type": "code",
      "execution_count": 151,
      "metadata": {
        "id": "4XCVTYbGh5JT"
      },
      "outputs": [],
      "source": [
        "from sklearn.model_selection import train_test_split\n",
        "\n",
        "X_train, X_test, y_train, y_test = train_test_split(X, y, test_size = 0.2, random_state = 2)"
      ]
    },
    {
      "cell_type": "code",
      "execution_count": 152,
      "metadata": {
        "id": "DP0bu3YVml3t"
      },
      "outputs": [
        {
          "name": "stdout",
          "output_type": "stream",
          "text": [
            "x_train shape (752, 8, 9, 11, 331)\n",
            "x_test shape (189, 8, 9, 11, 331)\n",
            "y_train shape (752, 19)\n",
            "y_test shape (189, 19)\n"
          ]
        }
      ],
      "source": [
        "print(\"x_train shape\", X_train.shape)\n",
        "print(\"x_test shape\", X_test.shape)\n",
        "print(\"y_train shape\", y_train.shape)\n",
        "print(\"y_test shape\", y_test.shape)"
      ]
    },
    {
      "cell_type": "markdown",
      "metadata": {},
      "source": [
        "import pandas as pd\n",
        "from sklearn.compose import ColumnTransformer\n",
        "from sklearn.preprocessing import OneHotEncoder\n",
        "\n",
        "# Convert X_train to a DataFrame if it's a NumPy array\n",
        "if isinstance(X_train, np.ndarray):\n",
        "    X_train = pd.DataFrame(X_train)\n",
        "\n",
        "# Identify non-numerical columns\n",
        "non_numerical_cols = X_train.select_dtypes(include=['object']).columns\n",
        "\n",
        "# Create a ColumnTransformer\n",
        "transformer = ColumnTransformer(\n",
        "    transformers=[\n",
        "        ('encoder', OneHotEncoder(handle_unknown='ignore'), non_numerical_cols)\n",
        "    ],\n",
        "    remainder='passthrough'\n",
        ")\n",
        "\n",
        "# Preprocess the data\n",
        "X_train_transformed = transformer.fit_transform(X_train)\n",
        "X_test_transformed = transformer.transform(X_test)"
      ]
    },
    {
      "cell_type": "markdown",
      "metadata": {},
      "source": [
        "from sklearn.ensemble import RandomForestRegressor\n",
        "Fit the model\n",
        "model = RandomForestRegressor(n_estimators = 100, random_state = 42)\n",
        "model.fit(X_train, y_train)\n",
        "y_pred = model.predict(X_test)"
      ]
    },
    {
      "cell_type": "code",
      "execution_count": 153,
      "metadata": {},
      "outputs": [
        {
          "name": "stdout",
          "output_type": "stream",
          "text": [
            "Requirement already satisfied: keras in /Library/Frameworks/Python.framework/Versions/3.12/lib/python3.12/site-packages (3.3.3)\n",
            "Requirement already satisfied: absl-py in /Library/Frameworks/Python.framework/Versions/3.12/lib/python3.12/site-packages (from keras) (2.1.0)\n",
            "Requirement already satisfied: numpy in /Library/Frameworks/Python.framework/Versions/3.12/lib/python3.12/site-packages (from keras) (1.26.4)\n",
            "Requirement already satisfied: rich in /Library/Frameworks/Python.framework/Versions/3.12/lib/python3.12/site-packages (from keras) (13.7.1)\n",
            "Requirement already satisfied: namex in /Library/Frameworks/Python.framework/Versions/3.12/lib/python3.12/site-packages (from keras) (0.0.8)\n",
            "Requirement already satisfied: h5py in /Library/Frameworks/Python.framework/Versions/3.12/lib/python3.12/site-packages (from keras) (3.11.0)\n",
            "Requirement already satisfied: optree in /Library/Frameworks/Python.framework/Versions/3.12/lib/python3.12/site-packages (from keras) (0.11.0)\n",
            "Requirement already satisfied: ml-dtypes in /Library/Frameworks/Python.framework/Versions/3.12/lib/python3.12/site-packages (from keras) (0.3.2)\n",
            "Requirement already satisfied: typing-extensions>=4.0.0 in /Library/Frameworks/Python.framework/Versions/3.12/lib/python3.12/site-packages (from optree->keras) (4.12.1)\n",
            "Requirement already satisfied: markdown-it-py>=2.2.0 in /Library/Frameworks/Python.framework/Versions/3.12/lib/python3.12/site-packages (from rich->keras) (3.0.0)\n",
            "Requirement already satisfied: pygments<3.0.0,>=2.13.0 in /Users/kami/Library/Python/3.12/lib/python/site-packages (from rich->keras) (2.18.0)\n",
            "Requirement already satisfied: mdurl~=0.1 in /Library/Frameworks/Python.framework/Versions/3.12/lib/python3.12/site-packages (from markdown-it-py>=2.2.0->rich->keras) (0.1.2)\n",
            "Note: you may need to restart the kernel to use updated packages.\n"
          ]
        }
      ],
      "source": [
        "%pip install keras"
      ]
    },
    {
      "cell_type": "code",
      "execution_count": 154,
      "metadata": {},
      "outputs": [
        {
          "name": "stdout",
          "output_type": "stream",
          "text": [
            "Requirement already satisfied: tensorflow in /Library/Frameworks/Python.framework/Versions/3.12/lib/python3.12/site-packages (2.16.1)\n",
            "Requirement already satisfied: absl-py>=1.0.0 in /Library/Frameworks/Python.framework/Versions/3.12/lib/python3.12/site-packages (from tensorflow) (2.1.0)\n",
            "Requirement already satisfied: astunparse>=1.6.0 in /Library/Frameworks/Python.framework/Versions/3.12/lib/python3.12/site-packages (from tensorflow) (1.6.3)\n",
            "Requirement already satisfied: flatbuffers>=23.5.26 in /Library/Frameworks/Python.framework/Versions/3.12/lib/python3.12/site-packages (from tensorflow) (24.3.25)\n",
            "Requirement already satisfied: gast!=0.5.0,!=0.5.1,!=0.5.2,>=0.2.1 in /Library/Frameworks/Python.framework/Versions/3.12/lib/python3.12/site-packages (from tensorflow) (0.5.4)\n",
            "Requirement already satisfied: google-pasta>=0.1.1 in /Library/Frameworks/Python.framework/Versions/3.12/lib/python3.12/site-packages (from tensorflow) (0.2.0)\n",
            "Requirement already satisfied: h5py>=3.10.0 in /Library/Frameworks/Python.framework/Versions/3.12/lib/python3.12/site-packages (from tensorflow) (3.11.0)\n",
            "Requirement already satisfied: libclang>=13.0.0 in /Library/Frameworks/Python.framework/Versions/3.12/lib/python3.12/site-packages (from tensorflow) (18.1.1)\n",
            "Requirement already satisfied: ml-dtypes~=0.3.1 in /Library/Frameworks/Python.framework/Versions/3.12/lib/python3.12/site-packages (from tensorflow) (0.3.2)\n",
            "Requirement already satisfied: opt-einsum>=2.3.2 in /Library/Frameworks/Python.framework/Versions/3.12/lib/python3.12/site-packages (from tensorflow) (3.3.0)\n",
            "Requirement already satisfied: packaging in /Users/kami/Library/Python/3.12/lib/python/site-packages (from tensorflow) (24.0)\n",
            "Requirement already satisfied: protobuf!=4.21.0,!=4.21.1,!=4.21.2,!=4.21.3,!=4.21.4,!=4.21.5,<5.0.0dev,>=3.20.3 in /Library/Frameworks/Python.framework/Versions/3.12/lib/python3.12/site-packages (from tensorflow) (4.25.3)\n",
            "Requirement already satisfied: requests<3,>=2.21.0 in /Library/Frameworks/Python.framework/Versions/3.12/lib/python3.12/site-packages (from tensorflow) (2.32.3)\n",
            "Requirement already satisfied: setuptools in /Library/Frameworks/Python.framework/Versions/3.12/lib/python3.12/site-packages (from tensorflow) (70.0.0)\n",
            "Requirement already satisfied: six>=1.12.0 in /Users/kami/Library/Python/3.12/lib/python/site-packages (from tensorflow) (1.16.0)\n",
            "Requirement already satisfied: termcolor>=1.1.0 in /Library/Frameworks/Python.framework/Versions/3.12/lib/python3.12/site-packages (from tensorflow) (2.4.0)\n",
            "Requirement already satisfied: typing-extensions>=3.6.6 in /Library/Frameworks/Python.framework/Versions/3.12/lib/python3.12/site-packages (from tensorflow) (4.12.1)\n",
            "Requirement already satisfied: wrapt>=1.11.0 in /Library/Frameworks/Python.framework/Versions/3.12/lib/python3.12/site-packages (from tensorflow) (1.16.0)\n",
            "Requirement already satisfied: grpcio<2.0,>=1.24.3 in /Library/Frameworks/Python.framework/Versions/3.12/lib/python3.12/site-packages (from tensorflow) (1.64.1)\n",
            "Requirement already satisfied: tensorboard<2.17,>=2.16 in /Library/Frameworks/Python.framework/Versions/3.12/lib/python3.12/site-packages (from tensorflow) (2.16.2)\n",
            "Requirement already satisfied: keras>=3.0.0 in /Library/Frameworks/Python.framework/Versions/3.12/lib/python3.12/site-packages (from tensorflow) (3.3.3)\n",
            "Requirement already satisfied: numpy<2.0.0,>=1.26.0 in /Library/Frameworks/Python.framework/Versions/3.12/lib/python3.12/site-packages (from tensorflow) (1.26.4)\n",
            "Requirement already satisfied: wheel<1.0,>=0.23.0 in /Library/Frameworks/Python.framework/Versions/3.12/lib/python3.12/site-packages (from astunparse>=1.6.0->tensorflow) (0.43.0)\n",
            "Requirement already satisfied: rich in /Library/Frameworks/Python.framework/Versions/3.12/lib/python3.12/site-packages (from keras>=3.0.0->tensorflow) (13.7.1)\n",
            "Requirement already satisfied: namex in /Library/Frameworks/Python.framework/Versions/3.12/lib/python3.12/site-packages (from keras>=3.0.0->tensorflow) (0.0.8)\n",
            "Requirement already satisfied: optree in /Library/Frameworks/Python.framework/Versions/3.12/lib/python3.12/site-packages (from keras>=3.0.0->tensorflow) (0.11.0)\n",
            "Requirement already satisfied: charset-normalizer<4,>=2 in /Library/Frameworks/Python.framework/Versions/3.12/lib/python3.12/site-packages (from requests<3,>=2.21.0->tensorflow) (3.3.2)\n",
            "Requirement already satisfied: idna<4,>=2.5 in /Library/Frameworks/Python.framework/Versions/3.12/lib/python3.12/site-packages (from requests<3,>=2.21.0->tensorflow) (3.7)\n",
            "Requirement already satisfied: urllib3<3,>=1.21.1 in /Library/Frameworks/Python.framework/Versions/3.12/lib/python3.12/site-packages (from requests<3,>=2.21.0->tensorflow) (2.2.1)\n",
            "Requirement already satisfied: certifi>=2017.4.17 in /Library/Frameworks/Python.framework/Versions/3.12/lib/python3.12/site-packages (from requests<3,>=2.21.0->tensorflow) (2024.2.2)\n",
            "Requirement already satisfied: markdown>=2.6.8 in /Library/Frameworks/Python.framework/Versions/3.12/lib/python3.12/site-packages (from tensorboard<2.17,>=2.16->tensorflow) (3.6)\n",
            "Requirement already satisfied: tensorboard-data-server<0.8.0,>=0.7.0 in /Library/Frameworks/Python.framework/Versions/3.12/lib/python3.12/site-packages (from tensorboard<2.17,>=2.16->tensorflow) (0.7.2)\n",
            "Requirement already satisfied: werkzeug>=1.0.1 in /Library/Frameworks/Python.framework/Versions/3.12/lib/python3.12/site-packages (from tensorboard<2.17,>=2.16->tensorflow) (3.0.3)\n",
            "Requirement already satisfied: MarkupSafe>=2.1.1 in /Library/Frameworks/Python.framework/Versions/3.12/lib/python3.12/site-packages (from werkzeug>=1.0.1->tensorboard<2.17,>=2.16->tensorflow) (2.1.5)\n",
            "Requirement already satisfied: markdown-it-py>=2.2.0 in /Library/Frameworks/Python.framework/Versions/3.12/lib/python3.12/site-packages (from rich->keras>=3.0.0->tensorflow) (3.0.0)\n",
            "Requirement already satisfied: pygments<3.0.0,>=2.13.0 in /Users/kami/Library/Python/3.12/lib/python/site-packages (from rich->keras>=3.0.0->tensorflow) (2.18.0)\n",
            "Requirement already satisfied: mdurl~=0.1 in /Library/Frameworks/Python.framework/Versions/3.12/lib/python3.12/site-packages (from markdown-it-py>=2.2.0->rich->keras>=3.0.0->tensorflow) (0.1.2)\n",
            "Note: you may need to restart the kernel to use updated packages.\n"
          ]
        }
      ],
      "source": [
        "%pip install tensorflow"
      ]
    },
    {
      "cell_type": "markdown",
      "metadata": {},
      "source": [
        "from sklearn.metrics import confusion_matrix\n",
        "import itertools\n",
        "from tensorflow.keras.utils import to_categorical # convert to one-hot-encoding\n",
        "from keras.models import Sequential\n",
        "from keras.layers import Dense, Dropout, Flatten, Conv2D, Conv3D, MaxPool2D, Input\n",
        "from keras.optimizers import RMSprop,Adam\n",
        "from keras.callbacks import ReduceLROnPlateau\n",
        "\n",
        "input_shape = (8, 9, 11, 331)\n",
        "model = Sequential()\n",
        "# model.add(Conv3D(filters=32, kernel_size=(3, 3, 3), input_shape=(8, 9, 11, 331)))\n",
        "model.add(Conv3D(filters = 11, kernel_size = (3, 3, 3),padding = 'Same', activation ='relu'))\n",
        "model.add(Input(shape=input_shape))\n",
        "model.add(MaxPool2D(pool_size=(2,2)))\n",
        "model.add(Dropout(0.25))\n",
        "\n",
        "model.add(Conv3D(filters = 16, kernel_size = (3,3, 3),padding = 'Same', activation ='relu'))\n",
        "model.add(MaxPool2D(pool_size=(2,2), strides=(2,2)))\n",
        "model.add(Dropout(0.25))\n",
        "\n",
        "model.add(Flatten())\n",
        "model.add(Dense(256, activation = \"relu\"))\n",
        "model.add(Dropout(0.5))\n",
        "model.add(Dense(10, activation = \"softmax\"))"
      ]
    },
    {
      "cell_type": "code",
      "execution_count": 155,
      "metadata": {},
      "outputs": [],
      "source": [
        "from sklearn.metrics import confusion_matrix\n",
        "import itertools\n",
        "from tensorflow.keras.utils import to_categorical # convert to one-hot-encoding\n",
        "from keras.models import Sequential\n",
        "from keras.layers import Dense, Dropout, Flatten, Conv2D, Conv3D, MaxPool3D, Input\n",
        "from keras.optimizers import RMSprop,Adam\n",
        "from keras.callbacks import ReduceLROnPlateau\n",
        "\n",
        "input_shape = (8, 9, 11, 331)\n",
        "\n",
        "model = Sequential()\n",
        "model.add(Conv3D(filters=11, kernel_size=(3, 3, 3), padding='same', activation='relu', input_shape=input_shape))\n",
        "model.add(MaxPool3D(pool_size=(2, 2, 2)))\n",
        "model.add(Dropout(0.25))\n",
        "\n",
        "model.add(Conv3D(filters=16, kernel_size=(3, 3, 3), padding='same', activation='relu'))\n",
        "model.add(MaxPool3D(pool_size=(2, 2, 2), strides=(2, 2, 2)))\n",
        "model.add(Dropout(0.25))\n",
        "\n",
        "model.add(Flatten())\n",
        "model.add(Dense(256, activation='relu'))\n",
        "model.add(Dropout(0.5))\n",
        "model.add(Dense(19, activation='linear'))  # Adjusted output layer to match the number of outputs in `y`"
      ]
    },
    {
      "cell_type": "code",
      "execution_count": 156,
      "metadata": {},
      "outputs": [],
      "source": [
        "optimizer = Adam(learning_rate = 0.001, beta_1 = 0.9, beta_2 = 0.999)"
      ]
    },
    {
      "cell_type": "code",
      "execution_count": 157,
      "metadata": {},
      "outputs": [],
      "source": [
        "model.compile(optimizer=optimizer, loss='mean_squared_error', metrics=['mae'])"
      ]
    },
    {
      "cell_type": "code",
      "execution_count": 158,
      "metadata": {},
      "outputs": [],
      "source": [
        "epochs = 10\n",
        "batch_size = 250\n",
        "validation_split = 0.2"
      ]
    },
    {
      "cell_type": "code",
      "execution_count": 162,
      "metadata": {},
      "outputs": [
        {
          "name": "stdout",
          "output_type": "stream",
          "text": [
            "Epoch 1/10\n",
            "\u001b[1m3/3\u001b[0m \u001b[32m━━━━━━━━━━━━━━━━━━━━\u001b[0m\u001b[37m\u001b[0m \u001b[1m13s\u001b[0m 4s/step - loss: 8281.6611 - mae: 49.5883 - val_loss: 320.0252 - val_mae: 10.0653\n",
            "Epoch 2/10\n",
            "\u001b[1m1/3\u001b[0m \u001b[32m━━━━━━\u001b[0m\u001b[37m━━━━━━━━━━━━━━\u001b[0m \u001b[1m0s\u001b[0m 42ms/step - loss: 14065.6016 - mae: 69.7336"
          ]
        },
        {
          "name": "stderr",
          "output_type": "stream",
          "text": [
            "2024-06-15 11:56:24.662698: W tensorflow/core/framework/local_rendezvous.cc:404] Local rendezvous is aborting with status: OUT_OF_RANGE: End of sequence\n",
            "\t [[{{node IteratorGetNext}}]]\n"
          ]
        },
        {
          "name": "stdout",
          "output_type": "stream",
          "text": [
            "\u001b[1m3/3\u001b[0m \u001b[32m━━━━━━━━━━━━━━━━━━━━\u001b[0m\u001b[37m\u001b[0m \u001b[1m2s\u001b[0m 798ms/step - loss: 14065.6016 - mae: 69.7336 - val_loss: 275.7968 - val_mae: 9.2117\n",
            "Epoch 3/10\n",
            "\u001b[1m3/3\u001b[0m \u001b[32m━━━━━━━━━━━━━━━━━━━━\u001b[0m\u001b[37m\u001b[0m \u001b[1m13s\u001b[0m 5s/step - loss: 6084.0820 - mae: 41.7090 - val_loss: 211.3866 - val_mae: 8.0768\n",
            "Epoch 4/10\n",
            "\u001b[1m1/3\u001b[0m \u001b[32m━━━━━━\u001b[0m\u001b[37m━━━━━━━━━━━━━━\u001b[0m \u001b[1m0s\u001b[0m 42ms/step - loss: 11646.3994 - mae: 84.3755"
          ]
        },
        {
          "name": "stderr",
          "output_type": "stream",
          "text": [
            "2024-06-15 11:56:39.198071: W tensorflow/core/framework/local_rendezvous.cc:404] Local rendezvous is aborting with status: OUT_OF_RANGE: End of sequence\n",
            "\t [[{{node IteratorGetNext}}]]\n"
          ]
        },
        {
          "name": "stdout",
          "output_type": "stream",
          "text": [
            "\u001b[1m3/3\u001b[0m \u001b[32m━━━━━━━━━━━━━━━━━━━━\u001b[0m\u001b[37m\u001b[0m \u001b[1m2s\u001b[0m 740ms/step - loss: 11646.3994 - mae: 84.3755 - val_loss: 198.9824 - val_mae: 7.7544\n",
            "Epoch 5/10\n",
            "\u001b[1m3/3\u001b[0m \u001b[32m━━━━━━━━━━━━━━━━━━━━\u001b[0m\u001b[37m\u001b[0m \u001b[1m12s\u001b[0m 4s/step - loss: 4195.8647 - mae: 34.8343 - val_loss: 170.5325 - val_mae: 7.0897\n",
            "Epoch 6/10\n",
            "\u001b[1m1/3\u001b[0m \u001b[32m━━━━━━\u001b[0m\u001b[37m━━━━━━━━━━━━━━\u001b[0m \u001b[1m0s\u001b[0m 39ms/step - loss: 4.1930 - mae: 1.3578"
          ]
        },
        {
          "name": "stderr",
          "output_type": "stream",
          "text": [
            "2024-06-15 11:56:52.982759: W tensorflow/core/framework/local_rendezvous.cc:404] Local rendezvous is aborting with status: OUT_OF_RANGE: End of sequence\n",
            "\t [[{{node IteratorGetNext}}]]\n"
          ]
        },
        {
          "name": "stdout",
          "output_type": "stream",
          "text": [
            "\u001b[1m3/3\u001b[0m \u001b[32m━━━━━━━━━━━━━━━━━━━━\u001b[0m\u001b[37m\u001b[0m \u001b[1m2s\u001b[0m 757ms/step - loss: 4.1930 - mae: 1.3578 - val_loss: 159.1989 - val_mae: 6.8638\n",
            "Epoch 7/10\n",
            "\u001b[1m3/3\u001b[0m \u001b[32m━━━━━━━━━━━━━━━━━━━━\u001b[0m\u001b[37m\u001b[0m \u001b[1m12s\u001b[0m 4s/step - loss: 3177.1553 - mae: 30.2277 - val_loss: 137.8699 - val_mae: 6.5171\n",
            "Epoch 8/10\n",
            "\u001b[1m1/3\u001b[0m \u001b[32m━━━━━━\u001b[0m\u001b[37m━━━━━━━━━━━━━━\u001b[0m \u001b[1m0s\u001b[0m 42ms/step - loss: 5119.6201 - mae: 58.0206"
          ]
        },
        {
          "name": "stderr",
          "output_type": "stream",
          "text": [
            "2024-06-15 11:57:06.721991: W tensorflow/core/framework/local_rendezvous.cc:404] Local rendezvous is aborting with status: OUT_OF_RANGE: End of sequence\n",
            "\t [[{{node IteratorGetNext}}]]\n"
          ]
        },
        {
          "name": "stdout",
          "output_type": "stream",
          "text": [
            "\u001b[1m3/3\u001b[0m \u001b[32m━━━━━━━━━━━━━━━━━━━━\u001b[0m\u001b[37m\u001b[0m \u001b[1m2s\u001b[0m 889ms/step - loss: 5119.6201 - mae: 58.0206 - val_loss: 130.2511 - val_mae: 6.3783\n",
            "Epoch 9/10\n",
            "\u001b[1m3/3\u001b[0m \u001b[32m━━━━━━━━━━━━━━━━━━━━\u001b[0m\u001b[37m\u001b[0m \u001b[1m14s\u001b[0m 4s/step - loss: 2429.1982 - mae: 26.3422 - val_loss: 108.1787 - val_mae: 5.8639\n",
            "Epoch 10/10\n",
            "\u001b[1m1/3\u001b[0m \u001b[32m━━━━━━\u001b[0m\u001b[37m━━━━━━━━━━━━━━\u001b[0m \u001b[1m0s\u001b[0m 42ms/step - loss: 2166.8022 - mae: 26.3671"
          ]
        },
        {
          "name": "stderr",
          "output_type": "stream",
          "text": [
            "2024-06-15 11:57:22.296159: W tensorflow/core/framework/local_rendezvous.cc:404] Local rendezvous is aborting with status: OUT_OF_RANGE: End of sequence\n",
            "\t [[{{node IteratorGetNext}}]]\n"
          ]
        },
        {
          "name": "stdout",
          "output_type": "stream",
          "text": [
            "\u001b[1m3/3\u001b[0m \u001b[32m━━━━━━━━━━━━━━━━━━━━\u001b[0m\u001b[37m\u001b[0m \u001b[1m2s\u001b[0m 736ms/step - loss: 2166.8022 - mae: 26.3671 - val_loss: 102.0779 - val_mae: 5.7063\n"
          ]
        }
      ],
      "source": [
        "# history = model.fit(X_train, y_train, epochs=10, batch_size=250, validation_split=0.2)\n",
        "history = model.fit(X_train,y_train, batch_size=batch_size, epochs = epochs, validation_data = (X_test,y_test), steps_per_epoch=X_train.shape[0] // batch_size)"
      ]
    },
    {
      "cell_type": "code",
      "execution_count": 163,
      "metadata": {},
      "outputs": [
        {
          "data": {
            "image/png": "[encoded data removed]",
            "text/plain": [
              "<Figure size 640x480 with 1 Axes>"
            ]
          },
          "metadata": {},
          "output_type": "display_data"
        }
      ],
      "source": [
        "plt.plot(history.history['val_loss'], color='b', label=\"validation loss\")\n",
        "plt.title(\"Test Loss\")\n",
        "plt.xlabel(\"Number of Epochs\")\n",
        "plt.ylabel(\"Loss\")\n",
        "plt.legend()\n",
        "plt.show()"
      ]
    },
    {
      "cell_type": "code",
      "execution_count": 164,
      "metadata": {},
      "outputs": [
        {
          "name": "stdout",
          "output_type": "stream",
          "text": [
            "\u001b[1m6/6\u001b[0m \u001b[32m━━━━━━━━━━━━━━━━━━━━\u001b[0m\u001b[37m\u001b[0m \u001b[1m2s\u001b[0m 259ms/step\n"
          ]
        },
        {
          "data": {
            "image/png": "[encoded data removed]",
            "text/plain": [
              "<Figure size 800x800 with 2 Axes>"
            ]
          },
          "metadata": {},
          "output_type": "display_data"
        }
      ],
      "source": [
        "# confusion matrix\n",
        "import seaborn as sns\n",
        "y_pred = model.predict(X_test)\n",
        "y_pred_classes = np.argmax(y_pred,axis = 1) \n",
        "y_true = np.argmax(y_test,axis = 1) \n",
        "confusion_mtx = confusion_matrix(y_true, y_pred_classes) \n",
        "# plot the confusion matrix\n",
        "f,ax = plt.subplots(figsize=(8, 8))\n",
        "sns.heatmap(confusion_mtx, annot=True, linewidths=0.01,cmap=\"Greens\",linecolor=\"gray\", fmt= '.1f',ax=ax)\n",
        "plt.xlabel(\"Predicted Label\")\n",
        "plt.ylabel(\"True Label\")\n",
        "plt.title(\"Confusion Matrix\")\n",
        "plt.show()"
      ]
    }
  ],
  "metadata": {
    "colab": {
      "collapsed_sections": [
        "HYS0nMQedsU1",
        "ugipcuVLh3O7"
      ],
      "provenance": []
    },
    "kernelspec": {
      "display_name": "Python 3",
      "name": "python3"
    },
    "language_info": {
      "codemirror_mode": {
        "name": "ipython",
        "version": 3
      },
      "file_extension": ".py",
      "mimetype": "text/x-python",
      "name": "python",
      "nbconvert_exporter": "python",
      "pygments_lexer": "ipython3",
      "version": "3.12.3"
    }
  },
  "nbformat": 4,
  "nbformat_minor": 0
}
